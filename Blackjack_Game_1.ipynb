{
 "cells": [
  {
   "cell_type": "markdown",
   "metadata": {},
   "source": [
    "The goal of this notebook is to create a blackjack game with the following attributes:\n",
    "    (1) The game needs to have one player versus an automated dealer.\n",
    "    (2) The player can stand or hit.\n",
    "    (3) The player must be able to pick their betting amount.\n",
    "    (4) The program needs to keep track fo the players total money.\n",
    "    (5) The program needs to alert the player of wins,losses, or busts, etc.."
   ]
  },
  {
   "cell_type": "markdown",
   "metadata": {},
   "source": [
    "Steps in game:\n",
    "\n",
    "(1) Initialize game with player, dealer, shuffled deck, and player bet amount\n",
    "\n",
    "(2) Deal cards to player and dealer\n",
    "\n",
    "(3) Ask player if they want to hit\n",
    "\n",
    "(4) Determine if dealer wants to hit\n",
    "\n",
    "(5) Ask player if they want to hit again, etc.\n",
    "\n",
    "(6) When both player and dealer stay, compare cards and determine who wins\n",
    "\n",
    "(7) Add or deduct bet amount from player's money\n",
    "\n",
    "(8) Ask if player wants to play again\n"
   ]
  },
  {
   "cell_type": "code",
   "execution_count": 1,
   "metadata": {
    "collapsed": true
   },
   "outputs": [],
   "source": [
    "import random"
   ]
  },
  {
   "cell_type": "code",
   "execution_count": 2,
   "metadata": {
    "collapsed": false
   },
   "outputs": [],
   "source": [
    "# Define a deck\n",
    "# Deck has 52 cards, 2-10 + Jack + Queen + King + Ace in four suits\n",
    "\n",
    "class Deck(object):\n",
    "    \"\"\" Creates deck for blackjack game.\n",
    "    The default number of decks to use is 1,\n",
    "    change by using the numdecks attribute.\"\"\"\n",
    "    \n",
    "    suits = ['Heart', 'Spade', 'Club', 'Diamond']\n",
    "    ranks = [2,3,4,5,6,7,8,9,10,'Jack','Queen','King','Ace']\n",
    "    \n",
    "    def __init__(self, numdecks = 1):\n",
    "        self.numdecks = numdecks\n",
    "        suitlist = []\n",
    "        for suit in Deck.suits:\n",
    "            for j in range(13):\n",
    "                suitlist.append(suit)\n",
    "        deck = zip(Deck.ranks*4, suitlist)\n",
    "        \n",
    "        self.deck = deck * numdecks\n",
    "    \n",
    "    def shuffle(self):\n",
    "        return random.shuffle(self.deck)\n",
    "    \n",
    "    def deal(self, num_cards):\n",
    "        return self.deck[:num_cards], self.deck[num_cards:]"
   ]
  },
  {
   "cell_type": "code",
   "execution_count": 3,
   "metadata": {
    "collapsed": false
   },
   "outputs": [],
   "source": [
    "class Player(object):\n",
    "    \"\"\"Initializes a player with a hand and an amount of money to spend.\n",
    "    hand default = [], money default = 100\"\"\"\n",
    "    \n",
    "    def __init__(self, name, hand = [], total_money = 100):\n",
    "        self.name = name\n",
    "        self.hand = hand\n",
    "        self.total_money = total_money\n",
    "    \n",
    "    def changeMoney(self, bet_amount):\n",
    "        self.total_money += bet_amount\n",
    "        no_money = False\n",
    "        if self.total_money <= 0:\n",
    "            no_money = True\n",
    "        return self.total_money, no_money\n",
    "    \n",
    "    def ask_for_hit(self):\n",
    "        while True:\n",
    "            hit = raw_input('%s, your cards sum to %d, would you like to hit? (Y/N): ' %(self.name, sum_card_values(self.hand)))\n",
    "            if hit.lower() == 'y':\n",
    "                return True\n",
    "                break\n",
    "            elif hit.lower() == 'n':\n",
    "                return False\n",
    "                break\n",
    "            else:\n",
    "                print 'Invalid entry.'"
   ]
  },
  {
   "cell_type": "code",
   "execution_count": 4,
   "metadata": {
    "collapsed": true
   },
   "outputs": [],
   "source": [
    "class Dealer(object):\n",
    "    \"\"\"Dealer initialized with empty hand\"\"\"\n",
    "    def __init__(self, hand = []):\n",
    "        self.hand = hand\n",
    "    \n",
    "    def do_I_hit(self, hand):\n",
    "        if sum_card_values(self.hand) < 17:\n",
    "            return True\n",
    "        else:\n",
    "            return False\n",
    "                "
   ]
  },
  {
   "cell_type": "code",
   "execution_count": 5,
   "metadata": {
    "collapsed": false
   },
   "outputs": [],
   "source": [
    "def ask_num_decks():\n",
    "    while True:\n",
    "        numdecks = raw_input('How many decks would you like to play with? (enter an int): ')\n",
    "        try:\n",
    "            numdecks = int(numdecks)\n",
    "            break\n",
    "        except ValueError:\n",
    "            print 'Not an integer number of decks.'\n",
    "    return numdecks\n",
    "    "
   ]
  },
  {
   "cell_type": "code",
   "execution_count": 6,
   "metadata": {
    "collapsed": false
   },
   "outputs": [],
   "source": [
    "def get_bet_amount(player):\n",
    "    while True:\n",
    "        bet_amount = raw_input('How much would you like to bet? (enter an int): ')\n",
    "        try:\n",
    "            bet_amount = int(bet_amount)\n",
    "            if bet_amount > player.total_money:\n",
    "                print \"You don't have that much money!\"\n",
    "                continue\n",
    "            else:\n",
    "                print \"Ok!\"\n",
    "                break\n",
    "        except ValueError:\n",
    "            print 'Not an integer bet amount.'\n",
    "    return bet_amount"
   ]
  },
  {
   "cell_type": "code",
   "execution_count": 7,
   "metadata": {
    "collapsed": false
   },
   "outputs": [],
   "source": [
    "def sum_card_values(hand):\n",
    "    handsum = 0\n",
    "    numaces = 0\n",
    "    for rank, suit in hand:\n",
    "        if rank == 'Jack' or rank == 'Queen' or rank == 'King':\n",
    "            rank = 10\n",
    "        elif rank == 'Ace':\n",
    "            rank = 1\n",
    "            numaces +=1\n",
    "        handsum += rank\n",
    "    \n",
    "    num = 0\n",
    "    while num <= numaces:\n",
    "        if handsum + 10*num <= 21:\n",
    "            handsum = handsum + 10*num\n",
    "        num +=1\n",
    "    \n",
    "    return handsum"
   ]
  },
  {
   "cell_type": "code",
   "execution_count": 8,
   "metadata": {
    "collapsed": false
   },
   "outputs": [],
   "source": [
    "def initialize_game():\n",
    "    # Get player name\n",
    "    playername = raw_input('Please enter your player name: ')\n",
    "    player = Player(playername)\n",
    "    print \"%s, you have %d dollars to spend.\" %(player.name, player.total_money)\n",
    "    \n",
    "    # Ask number of decks to play with\n",
    "    numdecks = ask_num_decks()\n",
    "    #deck = Deck(numdecks) ---> Moved to different part of play_game()\n",
    "    #deck.shuffle()\n",
    "    \n",
    "    # Ask bet amount ---> Actually, this got moved to different part of play_game()\n",
    "    #betamount = get_bet_amount()\n",
    "    \n",
    "    # Initialize dealer\n",
    "    dealer = Dealer()\n",
    "    \n",
    "    return player, dealer, numdecks\n"
   ]
  },
  {
   "cell_type": "code",
   "execution_count": 9,
   "metadata": {
    "collapsed": false
   },
   "outputs": [],
   "source": [
    "def first_deal(player, dealer, deck):\n",
    "    player.hand, deck.deck = deck.deal(2) # deal cards to player\n",
    "    print '{0}, your hand is: {1}'.format(player.name, player.hand)\n",
    "    \n",
    "    dealer.hand, deck.deck = deck.deal(2) # deal cards to dealer, only the top one is revealed\n",
    "    print \"The dealer's top card is: \", dealer.hand[0]\n",
    "    \n",
    "    return player, dealer, deck\n",
    "    "
   ]
  },
  {
   "cell_type": "code",
   "execution_count": 10,
   "metadata": {
    "collapsed": false
   },
   "outputs": [],
   "source": [
    "def hit(hit_bool, deck):\n",
    "    '''Returns the new card to be appended to the player hand\n",
    "    and the new deck with that card removed if hit_bool == True,\n",
    "    else returns an empty tuple and the same deck.'''\n",
    "    if hit_bool == True:\n",
    "        newcard, deck.deck = deck.deal(1)\n",
    "        return newcard[0], deck.deck #returns new card to be appended to player's hand\n",
    "                                    # and new deck with card removed.\n",
    "    else:\n",
    "        return (0,0), deck.deck"
   ]
  },
  {
   "cell_type": "code",
   "execution_count": 11,
   "metadata": {
    "collapsed": false
   },
   "outputs": [],
   "source": [
    "def who_won(player, dealer):\n",
    "    '''Determines if the player or dealer has won after both player and dealer do not hit.\n",
    "    returns True if player wins, False if dealer wins.'''\n",
    "    \n",
    "    player_hand_sum = sum_card_values(player.hand)\n",
    "    dealer_hand_sum = sum_card_values(dealer.hand)\n",
    "    \n",
    "    if player_hand_sum > dealer_hand_sum and player_hand_sum <= 21:\n",
    "        print 'Congratulations, %s, you won!' %player.name\n",
    "        return True\n",
    "    elif player_hand_sum == dealer_hand_sum:\n",
    "        print 'Tie!'\n",
    "        return None\n",
    "    elif player_hand_sum > 21 and dealer_hand_sum > 21:\n",
    "        print 'Tie!'\n",
    "        return None\n",
    "    elif player_hand_sum <= 21 and dealer_hand_sum > 21:\n",
    "        print 'Congratulations, %s, you won!' %player.name\n",
    "        return True\n",
    "    else:\n",
    "        print 'Sorry, %s, the dealer beat you.' %player.name\n",
    "        return False"
   ]
  },
  {
   "cell_type": "code",
   "execution_count": 12,
   "metadata": {
    "collapsed": false
   },
   "outputs": [],
   "source": [
    "def play_hand(player, dealer, deck, betamount):\n",
    "    \"\"\"Function to run through one hand of blackjack.\n",
    "    Returns boolean True/False in response to 'play another hand?' \"\"\"\n",
    "    \n",
    "    playerbool = True\n",
    "    dealerbool = True\n",
    "    \n",
    "    while playerbool == True:\n",
    "        \n",
    "        playerbool = player.ask_for_hit()\n",
    "        newcard, deck.deck = hit(playerbool, deck)\n",
    "        player.hand.append(newcard)\n",
    "        if newcard == (0,0):\n",
    "            player.hand.remove(newcard)\n",
    "        print \"\"\n",
    "        print \"{0}, your hand is: {1}\".format(player.name, player.hand)\n",
    "        if sum_card_values(player.hand) > 21:\n",
    "            print 'The value of your cards exceeds 21.'\n",
    "            break\n",
    "    \n",
    "    print 'Thank you. Now the dealer will resolve their hand.'\n",
    "    print '-------------------------------------------------'\n",
    "    \n",
    "    if sum_card_values(player.hand) > 21:\n",
    "        dealerbool = False\n",
    "    while dealerbool == True:\n",
    "        dealerbool = dealer.do_I_hit(dealer.hand)\n",
    "        newdealercard, deck.deck = hit(dealerbool, deck)\n",
    "        \n",
    "        # print 'The dealer hand sums to: ', sum_card_values(dealer.hand)\n",
    "        dealer.hand.append(newdealercard)\n",
    "        \n",
    "        if newdealercard == (0,0):\n",
    "            dealer.hand.remove(newdealercard)\n",
    "            \n",
    "        if dealerbool == True:\n",
    "            print \"\"\n",
    "            print \"The dealer chose to hit.\"\n",
    "            print \"The Dealer's new card is: \", newdealercard\n",
    "            if sum_card_values(dealer.hand) > 21:\n",
    "                print 'The value of the dealer cards exceeds 21.'\n",
    "                break\n",
    "        else:\n",
    "            print \"The dealer chose to stay.\"\n",
    "\n",
    "    \n",
    "    print \"The dealer's hand is: \", dealer.hand\n",
    "    \n",
    "    did_player_win = who_won(player, dealer)\n",
    "    \n",
    "    print '-------------------------------------------------'\n",
    "    \n",
    "    if did_player_win == True:\n",
    "        player.total_money, gameoverbool = player.changeMoney(betamount)\n",
    "        print \"{0}, you now have {1} dollars.\".format(player.name, player.total_money)\n",
    "        while True:\n",
    "            play_again = raw_input(\"Would you like to play another hand? (y/n): \")\n",
    "            if play_again.lower() == 'y':\n",
    "                return True\n",
    "                break\n",
    "            elif play_again.lower() == 'n':\n",
    "                return False\n",
    "                break\n",
    "            else:\n",
    "                print 'Invalid entry.'\n",
    "                \n",
    "    elif did_player_win == False:\n",
    "        player.total_money, gameoverbool = player.changeMoney(-betamount)\n",
    "        print \"{0}, you now have {1} dollars.\".format(player.name, player.total_money)\n",
    "        if gameoverbool == True:\n",
    "            print \"You have no more money to play with. See you next time!\"\n",
    "            return False\n",
    "        if gameoverbool == False:\n",
    "            while True:\n",
    "                play_again = raw_input(\"Would you like to play another hand? (y/n): \")\n",
    "                if play_again.lower() == 'y':\n",
    "                    return True\n",
    "                    break\n",
    "                elif play_again.lower() == 'n':\n",
    "                    return False\n",
    "                    break\n",
    "                else:\n",
    "                    print 'Invalid entry.'\n",
    "        \n",
    "    else:\n",
    "        print \"{0}, you still have {1} dollars.\".format(player.name, player.total_money)\n",
    "        while True:\n",
    "            play_again = raw_input(\"Would you like to play another hand? (y/n): \")\n",
    "            if play_again.lower() == 'y':\n",
    "                return True\n",
    "                break\n",
    "            elif play_again.lower() == 'n':\n",
    "                return False\n",
    "                break\n",
    "            else:\n",
    "                print 'Invalid entry.'\n",
    "        \n",
    "        "
   ]
  },
  {
   "cell_type": "code",
   "execution_count": 13,
   "metadata": {
    "collapsed": false
   },
   "outputs": [],
   "source": [
    "def play_game():    \n",
    "    player, dealer, numdecks = initialize_game() # initialize player and game\n",
    "    \n",
    "    play_again = True\n",
    "    \n",
    "    while play_again == True:\n",
    "        betamount = get_bet_amount(player)\n",
    "        deck = Deck(numdecks)\n",
    "        deck.shuffle()\n",
    "        \n",
    "        player, dealer, deck = first_deal(player, dealer, deck) # Give initial cards\n",
    "        \n",
    "        play_again = play_hand(player, dealer, deck, betamount)\n",
    "        \n",
    "    print 'Thanks for playing!'"
   ]
  },
  {
   "cell_type": "code",
   "execution_count": 14,
   "metadata": {
    "collapsed": false
   },
   "outputs": [
    {
     "name": "stdout",
     "output_type": "stream",
     "text": [
      "Please enter your player name: Jolene\n",
      "Jolene, you have 100 dollars to spend.\n",
      "How many decks would you like to play with? (enter an int): 2\n",
      "How much would you like to bet? (enter an int): 1000\n",
      "You don't have that much money!\n",
      "How much would you like to bet? (enter an int): 50\n",
      "Ok!\n",
      "Jolene, your hand is: [(2, 'Club'), ('Jack', 'Spade')]\n",
      "The dealer's top card is:  (3, 'Diamond')\n",
      "Jolene, your cards sum to 12, would you like to hit? (Y/N): y\n",
      "\n",
      "Jolene, your hand is: [(2, 'Club'), ('Jack', 'Spade'), (8, 'Diamond')]\n",
      "Jolene, your cards sum to 20, would you like to hit? (Y/N): n\n",
      "\n",
      "Jolene, your hand is: [(2, 'Club'), ('Jack', 'Spade'), (8, 'Diamond')]\n",
      "Thank you. Now the dealer will resolve their hand.\n",
      "-------------------------------------------------\n",
      "\n",
      "The dealer chose to hit.\n",
      "The Dealer's new card is:  ('Queen', 'Spade')\n",
      "The value of the dealer cards exceeds 21.\n",
      "The dealer's hand is:  [(3, 'Diamond'), (9, 'Diamond'), ('Queen', 'Spade')]\n",
      "Congratulations, Jolene, you won!\n",
      "-------------------------------------------------\n",
      "Jolene, you now have 150 dollars.\n",
      "Would you like to play another hand? (y/n): n\n",
      "Thanks for playing!\n"
     ]
    }
   ],
   "source": [
    "play_game()"
   ]
  },
  {
   "cell_type": "code",
   "execution_count": null,
   "metadata": {
    "collapsed": true
   },
   "outputs": [],
   "source": []
  }
 ],
 "metadata": {
  "kernelspec": {
   "display_name": "Python 2",
   "language": "python",
   "name": "python2"
  },
  "language_info": {
   "codemirror_mode": {
    "name": "ipython",
    "version": 2
   },
   "file_extension": ".py",
   "mimetype": "text/x-python",
   "name": "python",
   "nbconvert_exporter": "python",
   "pygments_lexer": "ipython2",
   "version": "2.7.12"
  }
 },
 "nbformat": 4,
 "nbformat_minor": 0
}

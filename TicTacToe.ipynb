{
 "cells": [
  {
   "cell_type": "markdown",
   "metadata": {},
   "source": [
    "This is a game of Tic Tac Toe with a 3x3 board"
   ]
  },
  {
   "cell_type": "code",
   "execution_count": 2,
   "metadata": {
    "collapsed": true
   },
   "outputs": [],
   "source": [
    "def initialize_board():\n",
    "    board = [1,2,3,4,5,6,7,8,9]\n",
    "    return board"
   ]
  },
  {
   "cell_type": "code",
   "execution_count": 3,
   "metadata": {
    "collapsed": false
   },
   "outputs": [],
   "source": [
    "from IPython.display import clear_output\n",
    "\n",
    "def board_representation(board):\n",
    "    clear_output()\n",
    "    print board[0],'|', board[1],'|', board[2]\n",
    "    print '----------'\n",
    "    print board[3],'|', board[4],'|', board[5]\n",
    "    print '----------'\n",
    "    print board[6],'|', board[7],'|', board[8]"
   ]
  },
  {
   "cell_type": "code",
   "execution_count": 12,
   "metadata": {
    "collapsed": false
   },
   "outputs": [
    {
     "name": "stdout",
     "output_type": "stream",
     "text": [
      "1 | 2 | 3\n",
      "----------\n",
      "4 | 5 | 6\n",
      "----------\n",
      "7 | 8 | 9\n"
     ]
    }
   ],
   "source": [
    "board = initialize_board()\n",
    "board_representation(board)"
   ]
  },
  {
   "cell_type": "code",
   "execution_count": 10,
   "metadata": {
    "collapsed": false
   },
   "outputs": [],
   "source": [
    "def make_move(board):\n",
    "    marker = raw_input('Please input your marker type (x or o): ')\n",
    "    # check if marker is valid\n",
    "    if marker != 'x' and marker != 'o':\n",
    "        print 'invalid marker type'\n",
    "        return board\n",
    "    position = int(raw_input('Please input the desired marker position (e.g. 3): '))\n",
    "    #check if position is valid\n",
    "    if position not in range(1,10):\n",
    "        print 'invalid position'\n",
    "    elif type(board[position-1]) != int:\n",
    "        print 'That position was already chosen'\n",
    "    else:\n",
    "        board[position-1] = marker\n",
    "    return board"
   ]
  },
  {
   "cell_type": "code",
   "execution_count": 13,
   "metadata": {
    "collapsed": false
   },
   "outputs": [
    {
     "name": "stdout",
     "output_type": "stream",
     "text": [
      "Please input your marker type (x or o): p\n",
      "invalid marker type\n"
     ]
    },
    {
     "data": {
      "text/plain": [
       "[1, 2, 3, 4, 5, 6, 7, 8, 9]"
      ]
     },
     "execution_count": 13,
     "metadata": {},
     "output_type": "execute_result"
    }
   ],
   "source": [
    "make_move(board)"
   ]
  },
  {
   "cell_type": "code",
   "execution_count": 14,
   "metadata": {
    "collapsed": false
   },
   "outputs": [],
   "source": [
    "def has_game_ended(board):\n",
    "    if board[0] == board[1] == board[2]:\n",
    "        print 'Symbol', board[0], 'won!'\n",
    "        return True\n",
    "    elif board[3] == board[4] == board[5]:\n",
    "        print 'Symbol', board[3], 'won!'\n",
    "        return True\n",
    "    elif board[6] == board[7] == board[8]:\n",
    "        print 'Symbol', board[6], 'won!'\n",
    "        return True\n",
    "    else:\n",
    "        if board[0] == board[3] == board[6]:\n",
    "            print 'Symbol', board[0], 'won!'\n",
    "            return True\n",
    "        elif board[1] == board[4] == board[7]:\n",
    "            print 'Symbol', board[1], 'won!'\n",
    "            return True\n",
    "        elif board[2] == board[5] == board[8]:\n",
    "            print 'Symbol', board[2], 'won!'\n",
    "            return True\n",
    "        elif board[0] == board[4] == board[8]:\n",
    "            print 'Symbol', board[0], 'won!'\n",
    "            return True\n",
    "        elif board[2] == board[4] == board[6]:\n",
    "            print 'Symbol', board[2], 'won!'\n",
    "            return True\n",
    "        else:\n",
    "            if all(type(position) is str for position in board):\n",
    "                print 'It\\'s a tie!'\n",
    "                return True\n",
    "            else:\n",
    "                return False"
   ]
  },
  {
   "cell_type": "code",
   "execution_count": 17,
   "metadata": {
    "collapsed": false
   },
   "outputs": [
    {
     "name": "stdout",
     "output_type": "stream",
     "text": [
      "x | 2 | 3\n",
      "----------\n",
      "x | 4 | 5\n",
      "----------\n",
      "6 | 7 | 8\n",
      "False\n"
     ]
    }
   ],
   "source": [
    "board = ['x',2,3,'x',4,5,6,7,8]\n",
    "board_representation(board)\n",
    "print has_game_ended(board)"
   ]
  },
  {
   "cell_type": "code",
   "execution_count": null,
   "metadata": {
    "collapsed": false
   },
   "outputs": [],
   "source": []
  },
  {
   "cell_type": "code",
   "execution_count": 19,
   "metadata": {
    "collapsed": true
   },
   "outputs": [],
   "source": [
    "def play_game():\n",
    "    board = initialize_board()\n",
    "    board_representation(board)\n",
    "    condition = False\n",
    "    while condition == False:\n",
    "        board = make_move(board)\n",
    "        board_representation(board)\n",
    "        condition = has_game_ended(board)"
   ]
  },
  {
   "cell_type": "code",
   "execution_count": 20,
   "metadata": {
    "collapsed": false
   },
   "outputs": [
    {
     "name": "stdout",
     "output_type": "stream",
     "text": [
      "1 | o | x\n",
      "----------\n",
      "4 | x | 6\n",
      "----------\n",
      "x | o | 9\n",
      "Symbol x won!\n"
     ]
    }
   ],
   "source": [
    "play_game()"
   ]
  },
  {
   "cell_type": "code",
   "execution_count": null,
   "metadata": {
    "collapsed": true
   },
   "outputs": [],
   "source": []
  }
 ],
 "metadata": {
  "kernelspec": {
   "display_name": "Python 2",
   "language": "python",
   "name": "python2"
  },
  "language_info": {
   "codemirror_mode": {
    "name": "ipython",
    "version": 2
   },
   "file_extension": ".py",
   "mimetype": "text/x-python",
   "name": "python",
   "nbconvert_exporter": "python",
   "pygments_lexer": "ipython2",
   "version": "2.7.11"
  }
 },
 "nbformat": 4,
 "nbformat_minor": 0
}
